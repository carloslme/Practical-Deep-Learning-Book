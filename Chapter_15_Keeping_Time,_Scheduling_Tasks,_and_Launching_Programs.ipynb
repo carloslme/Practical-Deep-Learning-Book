{
  "nbformat": 4,
  "nbformat_minor": 0,
  "metadata": {
    "colab": {
      "name": "Chapter_15_Keeping_Time,_Scheduling_Tasks,_and_Launching_Programs.ipynb",
      "provenance": [],
      "authorship_tag": "ABX9TyNJlNN02ahgBMHQSD9ziDN0",
      "include_colab_link": true
    },
    "kernelspec": {
      "name": "python3",
      "display_name": "Python 3"
    }
  },
  "cells": [
    {
      "cell_type": "markdown",
      "metadata": {
        "id": "view-in-github",
        "colab_type": "text"
      },
      "source": [
        "<a href=\"https://colab.research.google.com/github/carloslme/Practical-Deep-Learning-Book/blob/master/Chapter_15_Keeping_Time%2C_Scheduling_Tasks%2C_and_Launching_Programs.ipynb\" target=\"_parent\"><img src=\"https://colab.research.google.com/assets/colab-badge.svg\" alt=\"Open In Colab\"/></a>"
      ]
    },
    {
      "cell_type": "markdown",
      "metadata": {
        "id": "0n3nWfAZSi67"
      },
      "source": [
        "# The time Module\r\n",
        "Your computer’s system clock is set to a specific date, time, and time zone. The built-in time module allows your Python programs to read the system clock for the current time. The `time.time()` and `time.sleep()` functions are the most useful in the time module."
      ]
    },
    {
      "cell_type": "code",
      "metadata": {
        "id": "J59yEpLeSQVe"
      },
      "source": [
        ""
      ],
      "execution_count": null,
      "outputs": []
    }
  ]
}