{
  "nbformat": 4,
  "nbformat_minor": 0,
  "metadata": {
    "colab": {
      "name": "Chapter_15_Keeping_Time,_Scheduling_Tasks,_and_Launching_Programs.ipynb",
      "provenance": [],
      "authorship_tag": "ABX9TyOB9eXpXs80e2o3GSBPznJI",
      "include_colab_link": true
    },
    "kernelspec": {
      "name": "python3",
      "display_name": "Python 3"
    }
  },
  "cells": [
    {
      "cell_type": "markdown",
      "metadata": {
        "id": "view-in-github",
        "colab_type": "text"
      },
      "source": [
        "<a href=\"https://colab.research.google.com/github/carloslme/Practical-Deep-Learning-Book/blob/master/Chapter_15_Keeping_Time%2C_Scheduling_Tasks%2C_and_Launching_Programs.ipynb\" target=\"_parent\"><img src=\"https://colab.research.google.com/assets/colab-badge.svg\" alt=\"Open In Colab\"/></a>"
      ]
    },
    {
      "cell_type": "markdown",
      "metadata": {
        "id": "0n3nWfAZSi67"
      },
      "source": [
        "# The time Module\r\n",
        "Your computer’s system clock is set to a specific date, time, and time zone. The built-in time module allows your Python programs to read the system clock for the current time. The `time.time()` and `time.sleep()` functions are the most useful in the time module."
      ]
    },
    {
      "cell_type": "markdown",
      "metadata": {
        "id": "MbU_ZYGYSyNz"
      },
      "source": [
        "## The time.time() Function\r\n",
        "The `time.time()` function returns the number of seconds since that moment as a float value. (Recall that a float is just a number with a decimal point.) This number is called an epoch timestamp"
      ]
    },
    {
      "cell_type": "code",
      "metadata": {
        "colab": {
          "base_uri": "https://localhost:8080/"
        },
        "id": "J59yEpLeSQVe",
        "outputId": "76d11ebb-3c3f-440c-bd26-ae53a195c72f"
      },
      "source": [
        "import time\r\n",
        "time.time()"
      ],
      "execution_count": 1,
      "outputs": [
        {
          "output_type": "execute_result",
          "data": {
            "text/plain": [
              "1614057054.3615217"
            ]
          },
          "metadata": {
            "tags": []
          },
          "execution_count": 1
        }
      ]
    },
    {
      "cell_type": "markdown",
      "metadata": {
        "id": "DVktEJsbTHau"
      },
      "source": [
        "The return value is how many seconds have passed between the Unix epoch and the moment `time.time()` was called.\r\n",
        "\r\n",
        "Epoch timestamps can be used to profile code, that is, measure how long a piece of code takes to run. If you call `time.time()` at the beginning of the code block you want to measure and again at the end, you can subtract the first timestamp from the second to find the elapsed time between those two calls."
      ]
    },
    {
      "cell_type": "code",
      "metadata": {
        "colab": {
          "base_uri": "https://localhost:8080/"
        },
        "id": "GIytqfwbTBT8",
        "outputId": "55525d16-afbc-4a33-c6dd-09fa816b78d0"
      },
      "source": [
        "import time\r\n",
        "def calcProd():\r\n",
        "  # Calculate the product of the first 100,000 numbers.\r\n",
        "  product = 1\r\n",
        "  for i in range(1, 100000):\r\n",
        "    product = product * i\r\n",
        "  return product\r\n",
        "\r\n",
        "startTime = time.time()\r\n",
        "prod = calcProd()\r\n",
        "endTime = time.time()\r\n",
        "print('The result is %s digits long.' % (len(str(prod))))\r\n",
        "print('Took %s seconds to calculate.' % (endTime - startTime))"
      ],
      "execution_count": 7,
      "outputs": [
        {
          "output_type": "stream",
          "text": [
            "The result is 456569 digits long.\n",
            "Took 2.726442813873291 seconds to calculate.\n"
          ],
          "name": "stdout"
        }
      ]
    },
    {
      "cell_type": "code",
      "metadata": {
        "id": "jWmhBpg2U6y4"
      },
      "source": [
        ""
      ],
      "execution_count": null,
      "outputs": []
    }
  ]
}