{
  "nbformat": 4,
  "nbformat_minor": 0,
  "metadata": {
    "colab": {
      "name": "Chapter_11_Web_Scraping.ipynb",
      "provenance": [],
      "authorship_tag": "ABX9TyOxkPq/K4pOY7QIeDYtBK25",
      "include_colab_link": true
    },
    "kernelspec": {
      "name": "python3",
      "display_name": "Python 3"
    }
  },
  "cells": [
    {
      "cell_type": "markdown",
      "metadata": {
        "id": "view-in-github",
        "colab_type": "text"
      },
      "source": [
        "<a href=\"https://colab.research.google.com/github/carloslme/Practical-Deep-Learning-Book/blob/master/Chapter_11_Web_Scraping.ipynb\" target=\"_parent\"><img src=\"https://colab.research.google.com/assets/colab-badge.svg\" alt=\"Open In Colab\"/></a>"
      ]
    },
    {
      "cell_type": "markdown",
      "metadata": {
        "id": "0zG5u31KWNZC"
      },
      "source": [
        "Web scraping is the term for using a program to download and process content from the Web.\r\n",
        "In this chapter, you will learn about several modules that make it easy to scrape web pages in Python. \r\n",
        "* **webbrowser** . Comes with Python and opens a browser to a specific page. \r\n",
        "* **Requests** . Downloads files and web pages from the Internet. \r\n",
        "* **Beautiful Soup** . Parses HTML, the format that web pages are written in. \r\n",
        "* **Selenium** . Launches and controls a web browser. Selenium is able to fill in forms and simulate mouse clicks in this browser."
      ]
    },
    {
      "cell_type": "markdown",
      "metadata": {
        "id": "7PPa3w6yWns3"
      },
      "source": [
        "# Project: mapity.py with the webbrowser module\r\n",
        "The webbrowser module’s open() function can launch a new browser to a specified URL."
      ]
    },
    {
      "cell_type": "code",
      "metadata": {
        "id": "Hn6lL_nEV_9R"
      },
      "source": [
        "import webbrowser"
      ],
      "execution_count": 1,
      "outputs": []
    },
    {
      "cell_type": "code",
      "metadata": {
        "colab": {
          "base_uri": "https://localhost:8080/"
        },
        "id": "EoKAPNeTW0in",
        "outputId": "1311f1c5-ec6d-40e4-a1aa-753871d2ff4d"
      },
      "source": [
        "webbrowser.open('http://inventwithpython.com/')"
      ],
      "execution_count": 2,
      "outputs": [
        {
          "output_type": "execute_result",
          "data": {
            "text/plain": [
              "False"
            ]
          },
          "metadata": {
            "tags": []
          },
          "execution_count": 2
        }
      ]
    },
    {
      "cell_type": "code",
      "metadata": {
        "id": "JfpbZViaW6B9"
      },
      "source": [
        ""
      ],
      "execution_count": null,
      "outputs": []
    }
  ]
}