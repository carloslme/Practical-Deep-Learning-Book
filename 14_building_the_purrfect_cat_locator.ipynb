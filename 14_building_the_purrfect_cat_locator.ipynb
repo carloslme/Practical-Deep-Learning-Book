{
  "nbformat": 4,
  "nbformat_minor": 0,
  "metadata": {
    "colab": {
      "name": "14_building_the_purrfect_cat_locator.ipynb",
      "provenance": [],
      "authorship_tag": "ABX9TyNnHXPFetXg7LOBWSj/RhE+",
      "include_colab_link": true
    },
    "kernelspec": {
      "name": "python3",
      "display_name": "Python 3"
    },
    "language_info": {
      "name": "python"
    }
  },
  "cells": [
    {
      "cell_type": "markdown",
      "metadata": {
        "id": "view-in-github",
        "colab_type": "text"
      },
      "source": [
        "<a href=\"https://colab.research.google.com/github/carloslme/Practical-Deep-Learning-Book/blob/master/14_building_the_purrfect_cat_locator.ipynb\" target=\"_parent\"><img src=\"https://colab.research.google.com/assets/colab-badge.svg\" alt=\"Open In Colab\"/></a>"
      ]
    },
    {
      "cell_type": "markdown",
      "metadata": {
        "id": "_aRzHNt_ljhP"
      },
      "source": [
        "# Introduction\n",
        "There are several types of computer-vision tasks, and determining the location of and object within an image is a different type of problem called *object detection*. Let's look at the variety of frequent computer-vision tasks and the questions they purport to answer.\n",
        "\n",
        "* **Classification** \n",
        "\n",
        "> The task of classification assigns an image with the class(es) of the object(s) present in the image. It answers the question: \"Is there an object of class X in the image?\" Classification is one of the most fundamental computer-vision tasks. In an image, there might be object of more than one class called multiclass classification. The label in this case for one image would be a list of all object classes that the image contains.\n",
        "\n",
        "* **Localization**\n",
        "> The downside of classification is that it does not tell us where in the image a particular object is, how big or small it is, or how many objects there are. It only tell us that an object of a particular class exists somewhere within it. *Localization*, otherwise known as *classification with localization*, can inform us which classes are in an image and where they are located within the image. \n",
        "\n",
        "> Localization will work correctly only when it is guaranteed that there is a single instance of each class. If there is more than one instance of a class, one bounding box might encompass some or all the objects of that class (depending upon the probabilities)."
      ]
    }
  ]
}