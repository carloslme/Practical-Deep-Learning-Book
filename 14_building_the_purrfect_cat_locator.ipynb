{
  "nbformat": 4,
  "nbformat_minor": 0,
  "metadata": {
    "colab": {
      "name": "14_building_the_purrfect_cat_locator.ipynb",
      "provenance": [],
      "authorship_tag": "ABX9TyMjFuSVcmygaNow19yY1Uh2",
      "include_colab_link": true
    },
    "kernelspec": {
      "name": "python3",
      "display_name": "Python 3"
    },
    "language_info": {
      "name": "python"
    }
  },
  "cells": [
    {
      "cell_type": "markdown",
      "metadata": {
        "id": "view-in-github",
        "colab_type": "text"
      },
      "source": [
        "<a href=\"https://colab.research.google.com/github/carloslme/Practical-Deep-Learning-Book/blob/master/14_building_the_purrfect_cat_locator.ipynb\" target=\"_parent\"><img src=\"https://colab.research.google.com/assets/colab-badge.svg\" alt=\"Open In Colab\"/></a>"
      ]
    },
    {
      "cell_type": "markdown",
      "metadata": {
        "id": "_aRzHNt_ljhP"
      },
      "source": [
        "# Introduction\n",
        "There are several types of computer-vision tasks, and determining the location of and object within an image is a different type of problem called *object detection*. Let's look at the variety of frequent computer-vision tasks and the questions they purport to answer.\n",
        "\n",
        "* **Classification** \n",
        "\n",
        "> The task of classification assigns an image with the class(es) of the object(s) present in the image. It answers the question: \"Is there an object of class X in the image?\" Classification is one of the most fundamental computer-vision tasks. In an image, there might be object of more than one class called multiclass classification. The label in this case for one image would be a list of all object classes that the image contains.\n",
        "\n",
        "* **Localization**\n",
        "> The downside of classification is that it does not tell us where in the image a particular object is, how big or small it is, or how many objects there are. It only tell us that an object of a particular class exists somewhere within it. *Localization*, otherwise known as *classification with localization*, can inform us which classes are in an image and where they are located within the image. \n",
        "Localization will work correctly only when it is guaranteed that there is a single instance of each class. If there is more than one instance of a class, one bounding box might encompass some or all the objects of that class (depending upon the probabilities).\n",
        "\n",
        "* **Detection**\n",
        "> When we have multiple objects belonging to multiple classes in the same image, localization will not suffice. Object detection would give us a bounding rectangle for every instance of a class, for all classes. It also informs us as to the class of the object within each of the detected bounding boxes. For example, in the case of a self-driving car, object detection would return one bounding box per car, person, lamp post, and son on that the car sees. Because of this ability, we also can use it in applications that need to count. For example, counting the number of people in a crowd. Unlike localization, detection does not have a restriction on the number of instances of a class in an image. This is why it is used in real-world applications."
      ]
    }
  ]
}